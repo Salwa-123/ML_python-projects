{
 "cells": [
  {
   "cell_type": "code",
   "execution_count": 3,
   "id": "62fba40e",
   "metadata": {},
   "outputs": [
    {
     "name": "stdout",
     "output_type": "stream",
     "text": [
      " # # # # # #&&&\n"
     ]
    }
   ],
   "source": [
    "print(\" #\"*6 + \"&\"* 3)"
   ]
  },
  {
   "cell_type": "code",
   "execution_count": 5,
   "id": "0a62f289",
   "metadata": {},
   "outputs": [
    {
     "data": {
      "text/plain": [
       "5"
      ]
     },
     "execution_count": 5,
     "metadata": {},
     "output_type": "execute_result"
    }
   ],
   "source": [
    "arr =[1, 2, 3, 4, 5]\n",
    "max(arr)"
   ]
  },
  {
   "cell_type": "code",
   "execution_count": 13,
   "id": "f6685f54",
   "metadata": {},
   "outputs": [],
   "source": [
    "a =[1,6,3,3,4,4,5,5]\n",
    "def lonelyinteger(a):\n",
    "    for val in a:\n",
    "        if a.count(val) == 1:\n",
    "            result = val\n",
    "            return result"
   ]
  },
  {
   "cell_type": "code",
   "execution_count": 14,
   "id": "0afc3db0",
   "metadata": {},
   "outputs": [
    {
     "name": "stdout",
     "output_type": "stream",
     "text": [
      "1\n"
     ]
    }
   ],
   "source": [
    "print(lonelyinteger(a))"
   ]
  },
  {
   "cell_type": "code",
   "execution_count": 18,
   "id": "4cde9475",
   "metadata": {},
   "outputs": [
    {
     "name": "stdout",
     "output_type": "stream",
     "text": [
      "True\n"
     ]
    }
   ],
   "source": [
    "print(a.count(6)==1)"
   ]
  },
  {
   "cell_type": "code",
   "execution_count": null,
   "id": "3135950a",
   "metadata": {},
   "outputs": [],
   "source": []
  }
 ],
 "metadata": {
  "kernelspec": {
   "display_name": "Python 3 (ipykernel)",
   "language": "python",
   "name": "python3"
  },
  "language_info": {
   "codemirror_mode": {
    "name": "ipython",
    "version": 3
   },
   "file_extension": ".py",
   "mimetype": "text/x-python",
   "name": "python",
   "nbconvert_exporter": "python",
   "pygments_lexer": "ipython3",
   "version": "3.9.12"
  }
 },
 "nbformat": 4,
 "nbformat_minor": 5
}
