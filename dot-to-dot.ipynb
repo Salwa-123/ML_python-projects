{
 "cells": [
  {
   "cell_type": "markdown",
   "id": "658e2f36",
   "metadata": {},
   "source": [
    "# Dot-to-Dot"
   ]
  },
  {
   "cell_type": "markdown",
   "id": "7aba2d00",
   "metadata": {},
   "source": [
    "### Question 1"
   ]
  },
  {
   "cell_type": "code",
   "execution_count": 1,
   "id": "25cdb489",
   "metadata": {},
   "outputs": [
    {
     "name": "stderr",
     "output_type": "stream",
     "text": [
      "C:\\Users\\GHOST\\anaconda3\\lib\\site-packages\\numpy\\_distributor_init.py:30: UserWarning: loaded more than 1 DLL from .libs:\n",
      "C:\\Users\\GHOST\\anaconda3\\lib\\site-packages\\numpy\\.libs\\libopenblas.EL2C6PLE4ZYW3ECEVIV3OXXGRN2NRFM2.gfortran-win_amd64.dll\n",
      "C:\\Users\\GHOST\\anaconda3\\lib\\site-packages\\numpy\\.libs\\libopenblas.XWYDX2IKJW2NMTWSFYNGFUWKQU3LYTCZ.gfortran-win_amd64.dll\n",
      "  warnings.warn(\"loaded more than 1 DLL from .libs:\"\n"
     ]
    },
    {
     "data": {
      "image/png": "[encoded data removed]",
      "text/plain": [
       "<Figure size 432x288 with 1 Axes>"
      ]
     },
     "metadata": {
      "needs_background": "light"
     },
     "output_type": "display_data"
    }
   ],
   "source": [
    "# Enter your code here.\n",
    "import matplotlib.pyplot as plt\n",
    "\n",
    "# List of points (x, y)\n",
    "points = [\n",
    "    (0, 8), (0, 12), (3, 15), (5, 15), (5, 14), (3, 12), (2, 12), (2, 9),\n",
    "    (4, 11), (6, 11), (8, 9), (8, 13), (10, 11), (14, 11), (16, 13), (16, 7),\n",
    "    (15, 6), (13, 5), (11, 5), (9, 6), (8, 7), (8, 4), (9, 4), (9, 2),\n",
    "    (6, 2), (6, 6), (4, 6), (3, 5), (3, 4), (5, 4), (5, 2), (1, 2), (0, 8),\n",
    "    (9, 8), (9, 10), (11, 10), (11, 8), (9, 8), (13, 10), (15, 10), (15, 8),\n",
    "    (13, 8), (13, 10), (11, 7), (12, 8), (13, 7), (11, 7)\n",
    "]\n",
    "\n",
    "# Extracting x and y coordinates from the points list\n",
    "x_coords, y_coords = zip(*points)\n",
    "\n",
    "# Plotting the points\n",
    "plt.plot(x_coords, y_coords, marker='o', linestyle='-', color='b')\n",
    "\n",
    "# Adding labels\n",
    "plt.title(\"Plot of Given Points\")\n",
    "plt.xlabel(\"X-axis\")\n",
    "plt.ylabel(\"Y-axis\")\n",
    "\n",
    "# Display the plot\n",
    "plt.show()"
   ]
  },
  {
   "cell_type": "markdown",
   "id": "ee5fbe32",
   "metadata": {},
   "source": [
    "### Question 2"
   ]
  },
  {
   "cell_type": "code",
   "execution_count": 3,
   "id": "342c0551",
   "metadata": {},
   "outputs": [],
   "source": [
    "x1 = [3, 3, 4, 6, 10, 12, 13, 13, 12, 10, 6, 4, 3, 2, 2, 0, 0, 2, 2, 2, 0, 0, 2, 3, 2, 1, 1, 2, 3, 3, 5, 4, 3, 3, 4, 5, 5, 6, 6, 7, 7, 6, 9, 9, 10, 10, 9, 11, 12, 13, 13, 12, 11, 11, 13, 14, 15, 15, 14, 13, 13, 4, 5, 5, 4, 3, 3, 4, 12, 13, 13, 12, 11, 11, 12, 9, 10, 10, 9, 9, 2, 1, 1, 2, 3, 3, 2, 7, 6, 6, 7, 7, 16, 16, 14, 14, 16, 13, 13, 14, 15, 15, 14, 13, 14, 14, 16, 16, 14]\n",
    "y1 = [6, 10, 12, 13, 13, 12, 10, 6, 4, 3, 3, 4, 6, 10, 9, 9, 10, 10, 7, 6, 6, 7, 7, 11, 11, 12, 13, 13, 12, 11, 14, 15, 15, 14, 13, 13, 14, 14, 16, 16, 14, 14, 14, 16, 16, 14, 14, 13, 13, 14, 15, 15, 14, 13, 11, 11, 12, 13, 13, 12, 11, 3, 3, 2, 1, 1, 2, 3, 3, 2, 1, 1, 2, 3, 3, 2, 2, 0, 0, 2, 5, 4, 3, 3, 4, 5, 5, 2, 2, 0, 0, 2, 7, 6, 6, 7, 7, 4, 5, 5, 4, 3, 3, 4, 9, 10, 10, 9, 9]\n",
    "\n",
    "x2 = [0, 0, 7, 8, 15, 15, 13, 8, 7, 2, 0, 1, 1, 14, 14, 5, 5, 10, 10, 11, 11, 13, 13]\n",
    "y2 = [7, 9, 16, 16, 9, 7, 7, 13, 13, 7, 7, 7, 0, 0, 7, 0, 6, 6, 0, 13, 15, 15, 11]\n",
    "\n",
    "x3 = [1, 1, 0, 0, 3, 9, 12, 15, 16, 16, 15, 15, 13, 11, 9, 9, 7, 7, 5, 3, 1, 1, 3, 5, 5, 1, 6, 6, 11, 9, 6, 2, 3, 5, 6, 6, 5, 3, 2, 2, 14, 13, 11, 10, 10, 11, 13, 14, 14, 11, 11, 13, 13, 11, 5, 5, 3, 3, 5]\n",
    "y3 = [5, 4, 4, 9, 12, 12, 8, 8, 7, 4, 4, 5, 7, 7, 5, 4, 4, 5, 7, 7, 5, 8, 11, 11, 8, 8, 11, 8, 8, 11, 11, 5, 6, 6, 5, 3, 2, 2, 3, 5, 5, 6, 6, 5, 3, 2, 2, 3, 5, 5, 3, 3, 5, 5, 5, 3, 3, 5, 5]\n",
    "    \n",
    "# Enter your code here."
   ]
  },
  {
   "cell_type": "markdown",
   "id": "db91ed1d",
   "metadata": {},
   "source": [
    "### Question 4"
   ]
  },
  {
   "cell_type": "code",
   "execution_count": 2,
   "id": "6a71d606",
   "metadata": {},
   "outputs": [],
   "source": [
    "helicopter = {(1, 9), (12, 21), (1, 10), (14, 20), (2, 10), (2, 9), (1, 9), (0, 11), (0, 12), (1, 12), (3, 10), (5, 10), (7, 11), (12, 11), (14, 9), (16, 8), (16, 7), (14, 6), (7, 6), (5, 8), (3, 9), (2, 7), (1, 7), (0, 11), (9, 11), (9, 14), (-21, 4), (8, 14), (8, 11), (8, 14), (1, 14), (-7, -20), (9, 14), (16, 14), (9, 10), (12, 10), (14, 8), (9, 8), (9, 10), (6, 4), (15, 4), (16, 5), (15, 23), (9, 6), (9, 4), (12, 6), (12, 4)}\n",
    "ship = {(12, 0), (15, 2), (15, 6), (-15, 6), (-15, 5), (-11, 0), (12, 0), (12, 5), (-7, -20), (10, 5), (10, 3), (12, 3), (12, 5), (8, 3), (6, 3), (6, 5), (8, 5), (8, 3), (4, 3), (2, 3), (2, 5), (4, 5), (4, 3), (1, 7), (15, 23), (1, 9), (3, 9), (3, 7), (1, 7), (-10, 3), (-8, 3), (-8, 5), (-10, 5), (12, 21), (-10, 3), (-4, 9), (-4, 8), (-2, 8), (-2, 9), (-4, 9), (-6, 5), (-6, 3), (-4, 3), (-4, 5), (-6, 5), (-8, 6), (-8, 8), (-6, 8), (-6, 10), (4, 10), (8, 6), (-7, 6), (-7, 7), (-6, 7), (-6, 6), (-4, 10), (-4, 16), (1, 16), (1, 10), (-6, 10), (-11, 15), (14, 20), (-10, 14), (-14, 10), (-12, 9), (-8, 12), (0, 3), (-2, 3), (-2, 5), (-21, 4), (0, 5), (0, 3)}\n",
    "points = {(1, 7), (3, 9), (1, 9), (1, 10)}\n",
    "\n",
    "helicopter_original = {(1, 9), (1, 10), (2, 10), (2, 9), (1, 9), (0, 11), (0, 12), (1, 12), (3, 10), (5, 10), (7, 11), (12, 11), (14, 9), (16, 8), (16, 7), (14, 6), (7, 6), (5, 8), (3, 9), (2, 7), (1, 7), (0, 11), (9, 11), (9, 14), (8, 14), (8, 11), (8, 14), (1, 14), (9, 14), (16, 14), (9, 10), (12, 10), (14, 8), (9, 8), (9, 10), (6, 4), (15, 4), (16, 5), (9, 6), (9, 4), (12, 6), (12, 4)}\n",
    "ship_original = {(12, 0), (15, 2), (15, 6), (-15, 6), (-15, 5), (-11, 0), (12, 0), (12, 5), (10, 5), (10, 3), (12, 3), (12, 5), (8, 3), (6, 3), (6, 5), (8, 5), (8, 3), (4, 3), (2, 3), (2, 5), (4, 5), (4, 3), (1, 7), (1, 9), (3, 9), (3, 7), (1, 7), (-10, 3), (-8, 3), (-8, 5), (-10, 5), (-10, 3), (-4, 9), (-4, 8), (-2, 8), (-2, 9), (-4, 9), (-6, 5), (-6, 3), (-4, 3), (-4, 5), (-6, 5), (-8, 6), (-8, 8), (-6, 8), (-6, 10), (4, 10), (8, 6), (-7, 6), (-7, 7), (-6, 7), (-6, 6), (-4, 10), (-4, 16), (1, 16), (1, 10), (-6, 10), (-11, 15), (-10, 14), (-14, 10), (-12, 9), (-8, 12), (0, 3), (-2, 3), (-2, 5), (0, 5), (0, 3)}"
   ]
  },
  {
   "cell_type": "markdown",
   "id": "85b10588",
   "metadata": {},
   "source": [
    "### Question 5"
   ]
  },
  {
   "cell_type": "code",
   "execution_count": 3,
   "id": "d6548774",
   "metadata": {},
   "outputs": [
    {
     "ename": "TypeError",
     "evalue": "list.count() takes exactly one argument (0 given)",
     "output_type": "error",
     "traceback": [
      "\u001b[1;31m---------------------------------------------------------------------------\u001b[0m",
      "\u001b[1;31mTypeError\u001b[0m                                 Traceback (most recent call last)",
      "Input \u001b[1;32mIn [3]\u001b[0m, in \u001b[0;36m<cell line: 3>\u001b[1;34m()\u001b[0m\n\u001b[0;32m      1\u001b[0m x_all \u001b[38;5;241m=\u001b[39m [\u001b[38;5;241m2\u001b[39m, \u001b[38;5;241m3\u001b[39m, \u001b[38;5;241m4\u001b[39m, \u001b[38;5;241m5\u001b[39m, \u001b[38;5;241m5\u001b[39m, \u001b[38;5;241m4\u001b[39m, \u001b[38;5;241m3\u001b[39m, \u001b[38;5;241m2\u001b[39m, \u001b[38;5;241m2\u001b[39m, \u001b[38;5;241m6\u001b[39m, \u001b[38;5;241m6\u001b[39m, \u001b[38;5;241m7\u001b[39m, \u001b[38;5;241m8\u001b[39m, \u001b[38;5;241m9\u001b[39m, \u001b[38;5;241m9\u001b[39m, \u001b[38;5;241m8\u001b[39m, \u001b[38;5;241m7\u001b[39m, \u001b[38;5;241m6\u001b[39m, \u001b[38;5;241m10\u001b[39m, \u001b[38;5;241m11\u001b[39m, \u001b[38;5;241m12\u001b[39m, \u001b[38;5;241m11\u001b[39m, \u001b[38;5;241m10\u001b[39m, \u001b[38;5;241m0\u001b[39m, \u001b[38;5;241m2\u001b[39m, \u001b[38;5;241m3\u001b[39m, \u001b[38;5;241m4\u001b[39m, \u001b[38;5;241m5\u001b[39m, \u001b[38;5;241m6\u001b[39m, \u001b[38;5;241m7\u001b[39m, \u001b[38;5;241m8\u001b[39m, \u001b[38;5;241m10\u001b[39m, \u001b[38;5;241m13\u001b[39m, \u001b[38;5;241m13\u001b[39m, \u001b[38;5;241m16\u001b[39m, \u001b[38;5;241m14\u001b[39m, \u001b[38;5;241m13\u001b[39m, \u001b[38;5;241m13\u001b[39m, \u001b[38;5;241m14\u001b[39m, \u001b[38;5;241m14\u001b[39m, \u001b[38;5;241m13\u001b[39m, \u001b[38;5;241m13\u001b[39m, \u001b[38;5;241m12\u001b[39m, \u001b[38;5;241m12\u001b[39m, \u001b[38;5;241m13\u001b[39m, \u001b[38;5;241m13\u001b[39m, \u001b[38;5;241m12\u001b[39m, \u001b[38;5;241m10\u001b[39m, \u001b[38;5;241m9\u001b[39m, \u001b[38;5;241m9\u001b[39m, \u001b[38;5;241m10\u001b[39m, \u001b[38;5;241m10\u001b[39m, \u001b[38;5;241m9\u001b[39m, \u001b[38;5;241m9\u001b[39m, \u001b[38;5;241m7\u001b[39m, \u001b[38;5;241m7\u001b[39m, \u001b[38;5;241m6\u001b[39m, \u001b[38;5;241m6\u001b[39m, \u001b[38;5;241m0\u001b[39m, \u001b[38;5;241m0\u001b[39m, \u001b[38;5;241m2\u001b[39m, \u001b[38;5;241m2\u001b[39m, \u001b[38;5;241m1\u001b[39m, \u001b[38;5;241m1\u001b[39m, \u001b[38;5;241m0\u001b[39m, \u001b[38;5;241m0\u001b[39m, \u001b[38;5;241m3\u001b[39m, \u001b[38;5;241m3\u001b[39m, \u001b[38;5;241m5\u001b[39m, \u001b[38;5;241m5\u001b[39m, \u001b[38;5;241m3\u001b[39m, \u001b[38;5;241m8\u001b[39m, \u001b[38;5;241m8\u001b[39m, \u001b[38;5;241m10\u001b[39m, \u001b[38;5;241m10\u001b[39m, \u001b[38;5;241m8\u001b[39m, \u001b[38;5;241m7\u001b[39m, \u001b[38;5;241m7\u001b[39m, \u001b[38;5;241m6\u001b[39m, \u001b[38;5;241m6\u001b[39m, \u001b[38;5;241m5\u001b[39m, \u001b[38;5;241m5\u001b[39m, \u001b[38;5;241m7\u001b[39m, \u001b[38;5;241m2\u001b[39m, \u001b[38;5;241m0\u001b[39m, \u001b[38;5;241m0\u001b[39m, \u001b[38;5;241m1\u001b[39m, \u001b[38;5;241m1\u001b[39m, \u001b[38;5;241m2\u001b[39m, \u001b[38;5;241m2\u001b[39m, \u001b[38;5;241m3\u001b[39m, \u001b[38;5;241m3\u001b[39m, \u001b[38;5;241m4\u001b[39m, \u001b[38;5;241m4\u001b[39m, \u001b[38;5;241m3\u001b[39m, \u001b[38;5;241m4\u001b[39m, \u001b[38;5;241m4\u001b[39m, \u001b[38;5;241m3\u001b[39m, \u001b[38;5;241m3\u001b[39m, \u001b[38;5;241m4\u001b[39m, \u001b[38;5;241m0\u001b[39m, \u001b[38;5;241m2\u001b[39m, \u001b[38;5;241m0\u001b[39m, \u001b[38;5;241m2\u001b[39m, \u001b[38;5;241m2\u001b[39m, \u001b[38;5;241m3\u001b[39m, \u001b[38;5;241m7\u001b[39m, \u001b[38;5;241m9\u001b[39m, \u001b[38;5;241m9\u001b[39m, \u001b[38;5;241m6\u001b[39m, \u001b[38;5;241m6\u001b[39m, \u001b[38;5;241m10\u001b[39m, \u001b[38;5;241m12\u001b[39m, \u001b[38;5;241m14\u001b[39m, \u001b[38;5;241m13\u001b[39m, \u001b[38;5;241m16\u001b[39m, \u001b[38;5;241m16\u001b[39m, \u001b[38;5;241m14\u001b[39m, \u001b[38;5;241m16\u001b[39m, \u001b[38;5;241m16\u001b[39m, \u001b[38;5;241m13\u001b[39m, \u001b[38;5;241m3\u001b[39m, \u001b[38;5;241m0\u001b[39m, \u001b[38;5;241m0\u001b[39m, \u001b[38;5;241m3\u001b[39m, \u001b[38;5;241m3\u001b[39m, \u001b[38;5;241m0\u001b[39m, \u001b[38;5;241m3\u001b[39m, \u001b[38;5;241m3\u001b[39m, \u001b[38;5;241m5\u001b[39m, \u001b[38;5;241m5\u001b[39m, \u001b[38;5;241m3\u001b[39m, \u001b[38;5;241m4\u001b[39m, \u001b[38;5;241m4\u001b[39m, \u001b[38;5;241m3\u001b[39m, \u001b[38;5;241m8\u001b[39m, \u001b[38;5;241m3\u001b[39m, \u001b[38;5;241m2\u001b[39m, \u001b[38;5;241m2\u001b[39m, \u001b[38;5;241m5\u001b[39m, \u001b[38;5;241m11\u001b[39m, \u001b[38;5;241m14\u001b[39m, \u001b[38;5;241m12\u001b[39m, \u001b[38;5;241m9\u001b[39m, \u001b[38;5;241m13\u001b[39m, \u001b[38;5;241m11\u001b[39m, \u001b[38;5;241m7\u001b[39m, \u001b[38;5;241m8\u001b[39m, \u001b[38;5;241m8\u001b[39m]\n\u001b[0;32m      2\u001b[0m y_all \u001b[38;5;241m=\u001b[39m [\u001b[38;5;241m3\u001b[39m, \u001b[38;5;241m4\u001b[39m, \u001b[38;5;241m4\u001b[39m, \u001b[38;5;241m3\u001b[39m, \u001b[38;5;241m2\u001b[39m, \u001b[38;5;241m1\u001b[39m, \u001b[38;5;241m1\u001b[39m, \u001b[38;5;241m2\u001b[39m, \u001b[38;5;241m3\u001b[39m, \u001b[38;5;241m2\u001b[39m, \u001b[38;5;241m3\u001b[39m, \u001b[38;5;241m4\u001b[39m, \u001b[38;5;241m4\u001b[39m, \u001b[38;5;241m3\u001b[39m, \u001b[38;5;241m2\u001b[39m, \u001b[38;5;241m1\u001b[39m, \u001b[38;5;241m1\u001b[39m, \u001b[38;5;241m2\u001b[39m, \u001b[38;5;241m2\u001b[39m, \u001b[38;5;241m3\u001b[39m, \u001b[38;5;241m2\u001b[39m, \u001b[38;5;241m1\u001b[39m, \u001b[38;5;241m2\u001b[39m, \u001b[38;5;241m4\u001b[39m, \u001b[38;5;241m4\u001b[39m, \u001b[38;5;241m5\u001b[39m, \u001b[38;5;241m5\u001b[39m, \u001b[38;5;241m4\u001b[39m, \u001b[38;5;241m4\u001b[39m, \u001b[38;5;241m5\u001b[39m, \u001b[38;5;241m5\u001b[39m, \u001b[38;5;241m3\u001b[39m, \u001b[38;5;241m3\u001b[39m, \u001b[38;5;241m1\u001b[39m, \u001b[38;5;241m1\u001b[39m, \u001b[38;5;241m4\u001b[39m, \u001b[38;5;241m4\u001b[39m, \u001b[38;5;241m5\u001b[39m, \u001b[38;5;241m5\u001b[39m, \u001b[38;5;241m7\u001b[39m, \u001b[38;5;241m7\u001b[39m, \u001b[38;5;241m8\u001b[39m, \u001b[38;5;241m8\u001b[39m, \u001b[38;5;241m10\u001b[39m, \u001b[38;5;241m10\u001b[39m, \u001b[38;5;241m12\u001b[39m, \u001b[38;5;241m13\u001b[39m, \u001b[38;5;241m13\u001b[39m, \u001b[38;5;241m12\u001b[39m, \u001b[38;5;241m10\u001b[39m, \u001b[38;5;241m10\u001b[39m, \u001b[38;5;241m8\u001b[39m, \u001b[38;5;241m8\u001b[39m, \u001b[38;5;241m9\u001b[39m, \u001b[38;5;241m9\u001b[39m, \u001b[38;5;241m8\u001b[39m, \u001b[38;5;241m8\u001b[39m, \u001b[38;5;241m12\u001b[39m, \u001b[38;5;241m12\u001b[39m, \u001b[38;5;241m10\u001b[39m, \u001b[38;5;241m10\u001b[39m, \u001b[38;5;241m7\u001b[39m, \u001b[38;5;241m7\u001b[39m, \u001b[38;5;241m6\u001b[39m, \u001b[38;5;241m6\u001b[39m, \u001b[38;5;241m4\u001b[39m, \u001b[38;5;241m7\u001b[39m, \u001b[38;5;241m10\u001b[39m, \u001b[38;5;241m10\u001b[39m, \u001b[38;5;241m7\u001b[39m, \u001b[38;5;241m7\u001b[39m, \u001b[38;5;241m14\u001b[39m, \u001b[38;5;241m15\u001b[39m, \u001b[38;5;241m15\u001b[39m, \u001b[38;5;241m14\u001b[39m, \u001b[38;5;241m14\u001b[39m, \u001b[38;5;241m15\u001b[39m, \u001b[38;5;241m16\u001b[39m, \u001b[38;5;241m16\u001b[39m, \u001b[38;5;241m14\u001b[39m, \u001b[38;5;241m14\u001b[39m, \u001b[38;5;241m15\u001b[39m, \u001b[38;5;241m15\u001b[39m, \u001b[38;5;241m15\u001b[39m, \u001b[38;5;241m15\u001b[39m, \u001b[38;5;241m16\u001b[39m, \u001b[38;5;241m16\u001b[39m, \u001b[38;5;241m14\u001b[39m, \u001b[38;5;241m14\u001b[39m, \u001b[38;5;241m15\u001b[39m, \u001b[38;5;241m15\u001b[39m, \u001b[38;5;241m16\u001b[39m, \u001b[38;5;241m16\u001b[39m, \u001b[38;5;241m15\u001b[39m, \u001b[38;5;241m15\u001b[39m, \u001b[38;5;241m14\u001b[39m, \u001b[38;5;241m13\u001b[39m, \u001b[38;5;241m13\u001b[39m, \u001b[38;5;241m14\u001b[39m, \u001b[38;5;241m14\u001b[39m, \u001b[38;5;241m10\u001b[39m, \u001b[38;5;241m11\u001b[39m, \u001b[38;5;241m12\u001b[39m, \u001b[38;5;241m12\u001b[39m, \u001b[38;5;241m14\u001b[39m, \u001b[38;5;241m15\u001b[39m, \u001b[38;5;241m15\u001b[39m, \u001b[38;5;241m13\u001b[39m, \u001b[38;5;241m11\u001b[39m, \u001b[38;5;241m9\u001b[39m, \u001b[38;5;241m8\u001b[39m, \u001b[38;5;241m8\u001b[39m, \u001b[38;5;241m11\u001b[39m, \u001b[38;5;241m11\u001b[39m, \u001b[38;5;241m8\u001b[39m, \u001b[38;5;241m9\u001b[39m, \u001b[38;5;241m7\u001b[39m, \u001b[38;5;241m5\u001b[39m, \u001b[38;5;241m6\u001b[39m, \u001b[38;5;241m3\u001b[39m, \u001b[38;5;241m0\u001b[39m, \u001b[38;5;241m0\u001b[39m, \u001b[38;5;241m3\u001b[39m, \u001b[38;5;241m7\u001b[39m, \u001b[38;5;241m9\u001b[39m, \u001b[38;5;241m10\u001b[39m, \u001b[38;5;241m10\u001b[39m, \u001b[38;5;241m11\u001b[39m, \u001b[38;5;241m13\u001b[39m, \u001b[38;5;241m13\u001b[39m, \u001b[38;5;241m11\u001b[39m, \u001b[38;5;241m11\u001b[39m, \u001b[38;5;241m13\u001b[39m, \u001b[38;5;241m12\u001b[39m, \u001b[38;5;241m12\u001b[39m, \u001b[38;5;241m7\u001b[39m, \u001b[38;5;241m6\u001b[39m, \u001b[38;5;241m5\u001b[39m, \u001b[38;5;241m3\u001b[39m, \u001b[38;5;241m1\u001b[39m, \u001b[38;5;241m1\u001b[39m, \u001b[38;5;241m4\u001b[39m, \u001b[38;5;241m5\u001b[39m, \u001b[38;5;241m3\u001b[39m, \u001b[38;5;241m7\u001b[39m, \u001b[38;5;241m7\u001b[39m, \u001b[38;5;241m4\u001b[39m, \u001b[38;5;241m6\u001b[39m, \u001b[38;5;241m7\u001b[39m]\n\u001b[1;32m----> 3\u001b[0m \u001b[43mx_all\u001b[49m\u001b[38;5;241;43m.\u001b[39;49m\u001b[43mcount\u001b[49m\u001b[43m(\u001b[49m\u001b[43m)\u001b[49m\n",
      "\u001b[1;31mTypeError\u001b[0m: list.count() takes exactly one argument (0 given)"
     ]
    }
   ],
   "source": [
    "x_all = [2, 3, 4, 5, 5, 4, 3, 2, 2, 6, 6, 7, 8, 9, 9, 8, 7, 6, 10, 11, 12, 11, 10, 0, 2, 3, 4, 5, 6, 7, 8, 10, 13, 13, 16, 14, 13, 13, 14, 14, 13, 13, 12, 12, 13, 13, 12, 10, 9, 9, 10, 10, 9, 9, 7, 7, 6, 6, 0, 0, 2, 2, 1, 1, 0, 0, 3, 3, 5, 5, 3, 8, 8, 10, 10, 8, 7, 7, 6, 6, 5, 5, 7, 2, 0, 0, 1, 1, 2, 2, 3, 3, 4, 4, 3, 4, 4, 3, 3, 4, 0, 2, 0, 2, 2, 3, 7, 9, 9, 6, 6, 10, 12, 14, 13, 16, 16, 14, 16, 16, 13, 3, 0, 0, 3, 3, 0, 3, 3, 5, 5, 3, 4, 4, 3, 8, 3, 2, 2, 5, 11, 14, 12, 9, 13, 11, 7, 8, 8]\n",
    "y_all = [3, 4, 4, 3, 2, 1, 1, 2, 3, 2, 3, 4, 4, 3, 2, 1, 1, 2, 2, 3, 2, 1, 2, 4, 4, 5, 5, 4, 4, 5, 5, 3, 3, 1, 1, 4, 4, 5, 5, 7, 7, 8, 8, 10, 10, 12, 13, 13, 12, 10, 10, 8, 8, 9, 9, 8, 8, 12, 12, 10, 10, 7, 7, 6, 6, 4, 7, 10, 10, 7, 7, 14, 15, 15, 14, 14, 15, 16, 16, 14, 14, 15, 15, 15, 15, 16, 16, 14, 14, 15, 15, 16, 16, 15, 15, 14, 13, 13, 14, 14, 10, 11, 12, 12, 14, 15, 15, 13, 11, 9, 8, 8, 11, 11, 8, 9, 7, 5, 6, 3, 0, 0, 3, 7, 9, 10, 10, 11, 13, 13, 11, 11, 13, 12, 12, 7, 6, 5, 3, 1, 1, 4, 5, 3, 7, 7, 4, 6, 7]\n",
    "x_all.count()"
   ]
  },
  {
   "cell_type": "code",
   "execution_count": null,
   "id": "d66de7e8",
   "metadata": {},
   "outputs": [],
   "source": []
  }
 ],
 "metadata": {
  "kernelspec": {
   "display_name": "Python 3 (ipykernel)",
   "language": "python",
   "name": "python3"
  },
  "language_info": {
   "codemirror_mode": {
    "name": "ipython",
    "version": 3
   },
   "file_extension": ".py",
   "mimetype": "text/x-python",
   "name": "python",
   "nbconvert_exporter": "python",
   "pygments_lexer": "ipython3",
   "version": "3.9.12"
  }
 },
 "nbformat": 4,
 "nbformat_minor": 5
}
