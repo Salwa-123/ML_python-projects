{
 "cells": [
  {
   "cell_type": "code",
   "execution_count": null,
   "metadata": {
    "id": "t8ZOAPv-1A_H"
   },
   "outputs": [],
   "source": [
    "from tensorflow.keras.saving import register_keras_serializable\n",
    "from tensorflow.keras import backend as K  # Assuming you're using Keras backend\n",
    "import cv2\n",
    "import numpy as np\n",
    "import matplotlib.pyplot as plt\n",
    "\n",
    "@register_keras_serializable()\n",
    "def get_weighted_loss(pos_weights, neg_weights, epsilon=1e-7):\n",
    "  \"\"\"\n",
    "  Defines a custom weighted loss function.\n",
    "\n",
    "  Args:\n",
    "      pos_weights: List of weights for positive classes.\n",
    "      neg_weights: List of weights for negative classes.\n",
    "      epsilon: Small value to avoid log(0) errors.\n",
    "\n",
    "  Returns:\n",
    "      A function that calculates the weighted loss.\n",
    "  \"\"\"\n",
    "\n",
    "  def weighted_loss(y_true, y_pred):\n",
    "    \"\"\"\n",
    "    Calculates the weighted loss for each class and returns the sum.\n",
    "\n",
    "    Args:\n",
    "        y_true: True labels (one-hot encoded).\n",
    "        y_pred: Predicted probabilities.\n",
    "\n",
    "    Returns:\n",
    "        The total weighted loss.\n",
    "    \"\"\"\n",
    "\n",
    "    # Initialize loss to zero\n",
    "    loss = 0.0\n",
    "\n",
    "    for i in range(len(pos_weights)):\n",
    "      # For each class, add average weighted loss for that class\n",
    "      loss += - pos_weights[i] * K.mean(y_true[:, i] * K.log(y_pred[:, i] + epsilon))  \\\n",
    "             - neg_weights[i] * K.mean((1 - y_true[:, i]) * K.log(1 - y_pred[:, i] + epsilon))\n",
    "\n",
    "    return loss\n",
    "\n",
    "  return weighted_loss\n"
   ]
  },
  {
   "cell_type": "code",
   "execution_count": 1,
   "metadata": {
    "colab": {
     "base_uri": "https://localhost:8080/"
    },
    "id": "VChi63Yhrjc9",
    "outputId": "80b133ae-b944-4bf0-8c84-0a60a31e43dd"
   },
   "outputs": [],
   "source": [
    "def get_weighted_loss(pos_weights, neg_weights, epsilon=1e-7):\n",
    "    \"\"\"\n",
    "    Return weighted loss function given negative weights and positive weights.\n",
    "\n",
    "    Args:\n",
    "      pos_weights (np.array): array of positive weights for each class, size (num_classes)\n",
    "      neg_weights (np.array): array of negative weights for each class, size (num_classes)\n",
    "    \n",
    "    Returns:\n",
    "      weighted_loss (function): weighted loss function\n",
    "    \"\"\"\n",
    "    def weighted_loss(y_true, y_pred):\n",
    "        \"\"\"\n",
    "        Return weighted loss value. \n",
    "\n",
    "        Args:\n",
    "            y_true (Tensor): Tensor of true labels, size is (num_examples, num_classes)\n",
    "            y_pred (Tensor): Tensor of predicted labels, size is (num_examples, num_classes)\n",
    "        Returns:\n",
    "            loss (Float): overall scalar loss summed across all classes\n",
    "        \"\"\"\n",
    "        # initialize loss to zero\n",
    "        loss = 0.0\n",
    "        \n",
    "        \n",
    "        for i in range(len(pos_weights)):\n",
    "            # for each class, add average weighted loss for that class \n",
    "            loss += K.mean(-(pos_weights[i] *y_true[:,i] * K.log(y_pred[:,i] + epsilon) \n",
    "                             + neg_weights[i]* (1 - y_true[:,i]) * K.log( 1 - y_pred[:,i] + epsilon))) #complete this line\n",
    "        return loss\n",
    "    \n",
    "        \n",
    "    return weighted_loss"
   ]
  },
  {
   "cell_type": "code",
   "execution_count": null,
   "metadata": {
    "colab": {
     "base_uri": "https://localhost:8080/"
    },
    "id": "orrhw4S73h4S",
    "outputId": "e17256d1-f781-4bce-f23d-7c687acdf3de"
   },
   "outputs": [],
   "source": [
    "import tensorflow as tf  # Assuming TensorFlow is used for the model\n",
    "\n",
    "def load_model(model_path):\n",
    "  \"\"\"Loads a pre-trained model from the specified path.\n",
    "\n",
    "  Args:\n",
    "      model_path: Path to the saved model directory.\n",
    "\n",
    "  Returns:\n",
    "      The loaded TensorFlow model.\n",
    "  \"\"\"\n",
    "\n",
    "  # Load the model architecture and weights from the specified path\n",
    "  model = tf.keras.models.load_model(model_path)\n",
    "\n",
    "  return model\n",
    "\n",
    "def load_image(path, target_size=(128, 128)):\n",
    "  \"\"\"Loads and preprocesses an image for model input.\n",
    "\n",
    "  Args:\n",
    "      path: Path to the image file.\n",
    "      target_size: Target size for resizing the image (optional).\n",
    "\n",
    "  Returns:\n",
    "      A preprocessed image tensor ready for model prediction.\n",
    "  \"\"\"\n",
    "\n",
    "  # Load the image using an appropriate library (e.g., OpenCV, Pillow)\n",
    "  img = cv2.imread(path)  # Example using OpenCV\n",
    "\n",
    "  # Preprocess the image (resize, normalization, etc.) based on your model's requirements\n",
    "  img = cv2.resize(img, target_size)\n",
    "  img = img.astype('float32') / 255.0  # Normalize (assuming 0-255 pixel range)\n",
    "\n",
    "  # Add a batch dimension for compatibility with most models\n",
    "  img = np.expand_dims(img, axis=0)\n",
    "\n",
    "  return img\n",
    "\n",
    "def make_prediction(model, image_path, class_labels):\n",
    "  \"\"\"Performs prediction on an image using the loaded model and returns predicted class(es).\n",
    "\n",
    "  Args:\n",
    "      model: The loaded TensorFlow model.\n",
    "      image_path: Path to the image file.\n",
    "      class_labels: List of class labels corresponding to model outputs.\n",
    "\n",
    "  Returns:\n",
    "      A list of predicted class labels (or the most likely class if the model is single-class).\n",
    "  \"\"\"\n",
    "\n",
    "  # Load the image using the load_image function\n",
    "  image = load_image(image_path)\n",
    "\n",
    "  # Make predictions using the model\n",
    "  predictions = model.predict(image)\n",
    "\n",
    "  # Process predictions based on model output format:\n",
    "  if len(predictions.shape) == 2:  # Multi-class model (one-hot encoded predictions)\n",
    "    predicted_classes = np.argmax(predictions, axis=1)  # Get class indices with highest probabilities\n",
    "    predicted_labels = [class_labels[i] for i in predicted_classes]  # Convert indices to labels\n",
    "  else:  # Single-class model (single probability output)\n",
    "    predicted_class_proba = predictions[0][0]  # Assuming the first element is the probability\n",
    "    predicted_label = class_labels[0] if predicted_class_proba > 0.5 else 'Negative'  # Example thresholding\n",
    "\n",
    "  return predicted_labels  # Or predicted_label for single-class model\n",
    "\n",
    "# Example usage (replace with your actual model path, image path, and class labels)\n",
    "model = load_model('/content/chest_xray_model_pretrained.keras')\n",
    "image_path = '/content/WhatsApp Image 2024-03-11 at 12.59.12 PM.jpeg'\n",
    "vlabels = ['Cardiomegaly', 'Emphysema', 'Effusion', 'Hernia', 'Infiltration', 'Mass', 'Nodule', 'Atelectasis',\n",
    "           'Pneumothorax', 'Pleural_Thickening', 'Pneumonia', 'Fibrosis', 'Edema', 'Consolidation']\n",
    "\n",
    "predicted_classes = make_prediction(model, image_path, vlabels)\n",
    "\n",
    "# Display or use the predicted classes as needed\n",
    "print(\"Predicted classes:\", predicted_classes)\n"
   ]
  },
  {
   "cell_type": "code",
   "execution_count": 3,
   "metadata": {
    "id": "O-bT183lA761"
   },
   "outputs": [],
   "source": [
    "def weighted_loss(y_true, y_pred):\n",
    "    # Define the weighted loss function here\n",
    "    # ...\n",
    "    def loss(y_true, y_pred):\n",
    "        # Initialize loss to zero\n",
    "        loss_value = 0.0\n",
    "\n",
    "        # Compute weighted binary cross-entropy loss for each class\n",
    "        for i in range(len(pos_weights)):\n",
    "            loss_value += - pos_weights[i] * K.mean(y_true[:, i] * K.log(y_pred[:, i] + epsilon)) \\\n",
    "                          - neg_weights[i] * K.mean((1 - y_true[:, i]) * K.log(1 - y_pred[:, i] + epsilon))\n",
    "\n",
    "        return loss_value\n",
    "    return loss\n"
   ]
  },
  {
   "cell_type": "code",
   "execution_count": null,
   "metadata": {
    "colab": {
     "base_uri": "https://localhost:8080/"
    },
    "id": "-jnDNC9JA1xl",
    "outputId": "b22bb61d-dd13-4933-cfe0-e1f5233bbfae"
   },
   "outputs": [],
   "source": [
    "import tensorflow as tf\n",
    "from keras.preprocessing import image\n",
    "import numpy as np\n",
    "\n",
    "# Load the saved Keras model\n",
    "model = tf.keras.models.load_model('G:/colab_models/chest_xray_model_pretrained.keras', custom_objects={'weighted_loss': weighted_loss})\n",
    "\n",
    "# Preprocess the image\n",
    "def preprocess_image(image_path, target_size=(320, 320)):\n",
    "    img = image.load_img(image_path, target_size=target_size)\n",
    "    img_array = image.img_to_array(img)\n",
    "    img_array = np.expand_dims(img_array, axis=0)\n",
    "    processed_img = img_array / 255.0  # Normalize pixel values to [0, 1]\n",
    "    return processed_img\n",
    "\n",
    "# Perform multi-class classification\n",
    "def multi_class_classification(image_path, labels):\n",
    "    processed_img = preprocess_image(image_path)\n",
    "    predictions = model.predict(processed_img)[0]\n",
    "    class_predictions = {label: prediction for label, prediction in zip(labels, predictions)}\n",
    "    return class_predictions\n",
    "\n",
    "# Example usage:\n",
    "image_path = \"G:/colab_models/WhatsApp Image 2024-03-11 at 12.59.12 PM.jpeg\"\n",
    "labels = ['Cardiomegaly', 'Emphysema', 'Effusion', 'Hernia', 'Infiltration', 'Mass', 'Nodule', 'Atelectasis',\n",
    "          'Pneumothorax', 'Pleural_Thickening', 'Pneumonia', 'Fibrosis', 'Edema', 'Consolidation']\n",
    "predictions = multi_class_classification(image_path, labels)\n",
    "for label, prediction in predictions.items():\n",
    "    print(f\"{label}: {prediction}\")\n"
   ]
  },
  {
   "cell_type": "code",
   "execution_count": null,
   "metadata": {
    "colab": {
     "base_uri": "https://localhost:8080/",
     "height": 743
    },
    "id": "fhv0bW9jGrRH",
    "outputId": "3e44fc9a-b9c5-46b6-c172-52ad3e9cd9cd"
   },
   "outputs": [],
   "source": [
    "import numpy as np\n",
    "from PIL import Image\n",
    "import matplotlib.pyplot as plt\n",
    "from tensorflow.keras.models import load_model\n",
    "from tensorflow.keras.models import load_model\n",
    "\n",
    "# Load your trained model\n",
    "model = load_model(\"G:/colab_models/chest_xray_model_pretrained.keras\")\n",
    "\n",
    "# List of diseases for binary classification\n",
    "diseases = ['Cardiomegaly', 'Emphysema', 'Effusion', 'Hernia', 'Infiltration', 'Mass', 'Nodule', 'Atelectasis',\n",
    "           'Pneumothorax', 'Pleural_Thickening', 'Pneumonia', 'Fibrosis', 'Edema', 'Consolidation']\n",
    "\n",
    "def preprocess_image(image_path):\n",
    "    # Load and preprocess the image\n",
    "    img = Image.open(image_path)\n",
    "    img = img.resize((320, 320))  # Resize to match input size used during training\n",
    "    img_array = np.array(img)\n",
    "    img_array = img_array / 255.0  # Normalize pixel values (if necessary)\n",
    "    return img_array\n",
    "\n",
    "def predict_image(image_path):\n",
    "    # Preprocess the image\n",
    "    img_array = preprocess_image(image_path)\n",
    "    # Make prediction\n",
    "    predictions = model.predict(np.expand_dims(img_array, axis=0))[0]  # Extract predictions for the first (and only) image\n",
    "    # Threshold predictions (e.g., using 0.5 as threshold)\n",
    "    binary_predictions = [1 if pred >= 0.5 else 0 for pred in predictions]\n",
    "    return binary_predictions, img_array\n",
    "\n",
    "# Example usage\n",
    "image_path = \"G:/colab_models/WhatsApp Image 2024-03-11 at 12.59.12 PM.jpeg\"\n",
    "predictions, processed_image = predict_image(image_path)\n",
    "\n",
    "# Plot the processed image\n",
    "plt.imshow(processed_image)\n",
    "plt.axis('off')\n",
    "plt.title('Processed Image')\n",
    "plt.show()\n",
    "\n",
    "print(\"Predictions:\")\n",
    "for i, disease in enumerate(diseases):\n",
    "    if predictions[i] == 1:\n",
    "        print(f\"{disease}: Disease present\")\n",
    "    else:\n",
    "        print(f\"{disease}: Disease absent\")\n"
   ]
  },
  {
   "cell_type": "code",
   "execution_count": null,
   "metadata": {
    "id": "Xlj-qQLzNenF"
   },
   "outputs": [],
   "source": [
    "pip install numpy==1.22.0"
   ]
  },
  {
   "cell_type": "code",
   "execution_count": null,
   "metadata": {},
   "outputs": [],
   "source": [
    "pip install --upgrade tensorflow\n"
   ]
  },
  {
   "cell_type": "code",
   "execution_count": null,
   "metadata": {},
   "outputs": [],
   "source": [
    "import tensorflow as tf\n",
    "print(tf.keras.__version__)\n"
   ]
  },
  {
   "cell_type": "code",
   "execution_count": null,
   "metadata": {},
   "outputs": [],
   "source": [
    "from tensorflow.keras.models import load_model\n"
   ]
  },
  {
   "cell_type": "code",
   "execution_count": null,
   "metadata": {},
   "outputs": [],
   "source": [
    "\n",
    "import cv2\n",
    "import numpy as np\n",
    "import matplotlib.pyplot as plt\n",
    "from tensorflow.keras.saving import register_keras_serializable\n",
    "from tensorflow.keras import backend as K  # Assuming you're using Keras backend\n",
    "@register_keras_serializable()\n",
    "def get_weighted_loss(pos_weights, neg_weights, epsilon=1e-7):\n",
    "  \"\"\"\n",
    "  Defines a custom weighted loss function.\n",
    "\n",
    "  Args:\n",
    "      pos_weights: List of weights for positive classes.\n",
    "      neg_weights: List of weights for negative classes.\n",
    "      epsilon: Small value to avoid log(0) errors.\n",
    "\n",
    "  Returns:\n",
    "      A function that calculates the weighted loss.\n",
    "  \"\"\"\n",
    "\n",
    "  def weighted_loss(y_true, y_pred):\n",
    "    \"\"\"\n",
    "    Calculates the weighted loss for each class and returns the sum.\n",
    "\n",
    "    Args:\n",
    "        y_true: True labels (one-hot encoded).\n",
    "        y_pred: Predicted probabilities.\n",
    "\n",
    "    Returns:\n",
    "        The total weighted loss.\n",
    "    \"\"\"\n",
    "\n",
    "    # Initialize loss to zero\n",
    "    loss = 0.0\n",
    "\n",
    "    for i in range(len(pos_weights)):\n",
    "      # For each class, add average weighted loss for that class\n",
    "      loss += - pos_weights[i] * K.mean(y_true[:, i] * K.log(y_pred[:, i] + epsilon))  \\\n",
    "             - neg_weights[i] * K.mean((1 - y_true[:, i]) * K.log(1 - y_pred[:, i] + epsilon))\n",
    "\n",
    "    return loss\n",
    "\n",
    "  return weighted_loss\n"
   ]
  },
  {
   "cell_type": "code",
   "execution_count": 4,
   "metadata": {},
   "outputs": [
    {
     "ename": "ValueError",
     "evalue": "Unknown loss function: 'weighted_loss'. Please ensure you are using a `keras.utils.custom_object_scope` and that this object is included in the scope. See https://www.tensorflow.org/guide/keras/save_and_serialize#registering_the_custom_object for details.",
     "output_type": "error",
     "traceback": [
      "\u001b[1;31m---------------------------------------------------------------------------\u001b[0m",
      "\u001b[1;31mValueError\u001b[0m                                Traceback (most recent call last)",
      "Input \u001b[1;32mIn [4]\u001b[0m, in \u001b[0;36m<cell line: 8>\u001b[1;34m()\u001b[0m\n\u001b[0;32m      5\u001b[0m \u001b[38;5;28;01mfrom\u001b[39;00m \u001b[38;5;21;01mtensorflow\u001b[39;00m\u001b[38;5;21;01m.\u001b[39;00m\u001b[38;5;21;01mkeras\u001b[39;00m\u001b[38;5;21;01m.\u001b[39;00m\u001b[38;5;21;01mmodels\u001b[39;00m \u001b[38;5;28;01mimport\u001b[39;00m load_model\n\u001b[0;32m      7\u001b[0m \u001b[38;5;66;03m# Load your trained model\u001b[39;00m\n\u001b[1;32m----> 8\u001b[0m model \u001b[38;5;241m=\u001b[39m \u001b[43mload_model\u001b[49m\u001b[43m(\u001b[49m\u001b[38;5;124;43m\"\u001b[39;49m\u001b[38;5;124;43mD:/final_saved_models/chest_xray_model_small.h5\u001b[39;49m\u001b[38;5;124;43m\"\u001b[39;49m\u001b[43m)\u001b[49m\n\u001b[0;32m     10\u001b[0m \u001b[38;5;66;03m# List of diseases for binary classification\u001b[39;00m\n\u001b[0;32m     11\u001b[0m diseases \u001b[38;5;241m=\u001b[39m [\u001b[38;5;124m'\u001b[39m\u001b[38;5;124mCardiomegaly\u001b[39m\u001b[38;5;124m'\u001b[39m, \u001b[38;5;124m'\u001b[39m\u001b[38;5;124mEmphysema\u001b[39m\u001b[38;5;124m'\u001b[39m, \u001b[38;5;124m'\u001b[39m\u001b[38;5;124mEffusion\u001b[39m\u001b[38;5;124m'\u001b[39m, \u001b[38;5;124m'\u001b[39m\u001b[38;5;124mHernia\u001b[39m\u001b[38;5;124m'\u001b[39m, \u001b[38;5;124m'\u001b[39m\u001b[38;5;124mInfiltration\u001b[39m\u001b[38;5;124m'\u001b[39m, \u001b[38;5;124m'\u001b[39m\u001b[38;5;124mMass\u001b[39m\u001b[38;5;124m'\u001b[39m, \u001b[38;5;124m'\u001b[39m\u001b[38;5;124mNodule\u001b[39m\u001b[38;5;124m'\u001b[39m, \u001b[38;5;124m'\u001b[39m\u001b[38;5;124mAtelectasis\u001b[39m\u001b[38;5;124m'\u001b[39m,\n\u001b[0;32m     12\u001b[0m            \u001b[38;5;124m'\u001b[39m\u001b[38;5;124mPneumothorax\u001b[39m\u001b[38;5;124m'\u001b[39m, \u001b[38;5;124m'\u001b[39m\u001b[38;5;124mPleural_Thickening\u001b[39m\u001b[38;5;124m'\u001b[39m, \u001b[38;5;124m'\u001b[39m\u001b[38;5;124mPneumonia\u001b[39m\u001b[38;5;124m'\u001b[39m, \u001b[38;5;124m'\u001b[39m\u001b[38;5;124mFibrosis\u001b[39m\u001b[38;5;124m'\u001b[39m, \u001b[38;5;124m'\u001b[39m\u001b[38;5;124mEdema\u001b[39m\u001b[38;5;124m'\u001b[39m, \u001b[38;5;124m'\u001b[39m\u001b[38;5;124mConsolidation\u001b[39m\u001b[38;5;124m'\u001b[39m]\n",
      "File \u001b[1;32m~\\anaconda3\\lib\\site-packages\\keras\\saving\\saving_api.py:212\u001b[0m, in \u001b[0;36mload_model\u001b[1;34m(filepath, custom_objects, compile, safe_mode, **kwargs)\u001b[0m\n\u001b[0;32m    204\u001b[0m     \u001b[38;5;28;01mreturn\u001b[39;00m saving_lib\u001b[38;5;241m.\u001b[39mload_model(\n\u001b[0;32m    205\u001b[0m         filepath,\n\u001b[0;32m    206\u001b[0m         custom_objects\u001b[38;5;241m=\u001b[39mcustom_objects,\n\u001b[0;32m    207\u001b[0m         \u001b[38;5;28mcompile\u001b[39m\u001b[38;5;241m=\u001b[39m\u001b[38;5;28mcompile\u001b[39m,\n\u001b[0;32m    208\u001b[0m         safe_mode\u001b[38;5;241m=\u001b[39msafe_mode,\n\u001b[0;32m    209\u001b[0m     )\n\u001b[0;32m    211\u001b[0m \u001b[38;5;66;03m# Legacy case.\u001b[39;00m\n\u001b[1;32m--> 212\u001b[0m \u001b[38;5;28;01mreturn\u001b[39;00m legacy_sm_saving_lib\u001b[38;5;241m.\u001b[39mload_model(\n\u001b[0;32m    213\u001b[0m     filepath, custom_objects\u001b[38;5;241m=\u001b[39mcustom_objects, \u001b[38;5;28mcompile\u001b[39m\u001b[38;5;241m=\u001b[39m\u001b[38;5;28mcompile\u001b[39m, \u001b[38;5;241m*\u001b[39m\u001b[38;5;241m*\u001b[39mkwargs\n\u001b[0;32m    214\u001b[0m )\n",
      "File \u001b[1;32m~\\anaconda3\\lib\\site-packages\\keras\\utils\\traceback_utils.py:70\u001b[0m, in \u001b[0;36mfilter_traceback.<locals>.error_handler\u001b[1;34m(*args, **kwargs)\u001b[0m\n\u001b[0;32m     67\u001b[0m     filtered_tb \u001b[38;5;241m=\u001b[39m _process_traceback_frames(e\u001b[38;5;241m.\u001b[39m__traceback__)\n\u001b[0;32m     68\u001b[0m     \u001b[38;5;66;03m# To get the full stack trace, call:\u001b[39;00m\n\u001b[0;32m     69\u001b[0m     \u001b[38;5;66;03m# `tf.debugging.disable_traceback_filtering()`\u001b[39;00m\n\u001b[1;32m---> 70\u001b[0m     \u001b[38;5;28;01mraise\u001b[39;00m e\u001b[38;5;241m.\u001b[39mwith_traceback(filtered_tb) \u001b[38;5;28;01mfrom\u001b[39;00m \u001b[38;5;28;01mNone\u001b[39;00m\n\u001b[0;32m     71\u001b[0m \u001b[38;5;28;01mfinally\u001b[39;00m:\n\u001b[0;32m     72\u001b[0m     \u001b[38;5;28;01mdel\u001b[39;00m filtered_tb\n",
      "File \u001b[1;32m~\\anaconda3\\lib\\site-packages\\keras\\saving\\legacy\\serialization.py:543\u001b[0m, in \u001b[0;36mdeserialize_keras_object\u001b[1;34m(identifier, module_objects, custom_objects, printable_module_name)\u001b[0m\n\u001b[0;32m    541\u001b[0m     obj \u001b[38;5;241m=\u001b[39m module_objects\u001b[38;5;241m.\u001b[39mget(object_name)\n\u001b[0;32m    542\u001b[0m     \u001b[38;5;28;01mif\u001b[39;00m obj \u001b[38;5;129;01mis\u001b[39;00m \u001b[38;5;28;01mNone\u001b[39;00m:\n\u001b[1;32m--> 543\u001b[0m         \u001b[38;5;28;01mraise\u001b[39;00m \u001b[38;5;167;01mValueError\u001b[39;00m(\n\u001b[0;32m    544\u001b[0m             \u001b[38;5;124mf\u001b[39m\u001b[38;5;124m\"\u001b[39m\u001b[38;5;124mUnknown \u001b[39m\u001b[38;5;132;01m{\u001b[39;00mprintable_module_name\u001b[38;5;132;01m}\u001b[39;00m\u001b[38;5;124m: \u001b[39m\u001b[38;5;124m'\u001b[39m\u001b[38;5;132;01m{\u001b[39;00mobject_name\u001b[38;5;132;01m}\u001b[39;00m\u001b[38;5;124m'\u001b[39m\u001b[38;5;124m. \u001b[39m\u001b[38;5;124m\"\u001b[39m\n\u001b[0;32m    545\u001b[0m             \u001b[38;5;124m\"\u001b[39m\u001b[38;5;124mPlease ensure you are using a \u001b[39m\u001b[38;5;124m\"\u001b[39m\n\u001b[0;32m    546\u001b[0m             \u001b[38;5;124m\"\u001b[39m\u001b[38;5;124m`keras.utils.custom_object_scope` \u001b[39m\u001b[38;5;124m\"\u001b[39m\n\u001b[0;32m    547\u001b[0m             \u001b[38;5;124m\"\u001b[39m\u001b[38;5;124mand that this object is included in the scope. See \u001b[39m\u001b[38;5;124m\"\u001b[39m\n\u001b[0;32m    548\u001b[0m             \u001b[38;5;124m\"\u001b[39m\u001b[38;5;124mhttps://www.tensorflow.org/guide/keras/save_and_serialize\u001b[39m\u001b[38;5;124m\"\u001b[39m\n\u001b[0;32m    549\u001b[0m             \u001b[38;5;124m\"\u001b[39m\u001b[38;5;124m#registering_the_custom_object for details.\u001b[39m\u001b[38;5;124m\"\u001b[39m\n\u001b[0;32m    550\u001b[0m         )\n\u001b[0;32m    552\u001b[0m \u001b[38;5;66;03m# Classes passed by name are instantiated with no args, functions are\u001b[39;00m\n\u001b[0;32m    553\u001b[0m \u001b[38;5;66;03m# returned as-is.\u001b[39;00m\n\u001b[0;32m    554\u001b[0m \u001b[38;5;28;01mif\u001b[39;00m tf_inspect\u001b[38;5;241m.\u001b[39misclass(obj):\n",
      "\u001b[1;31mValueError\u001b[0m: Unknown loss function: 'weighted_loss'. Please ensure you are using a `keras.utils.custom_object_scope` and that this object is included in the scope. See https://www.tensorflow.org/guide/keras/save_and_serialize#registering_the_custom_object for details."
     ]
    }
   ],
   "source": [
    "\n",
    "\n",
    "\n",
    "\n",
    "import numpy as np\n",
    "from PIL import Image\n",
    "import matplotlib.pyplot as plt\n",
    "from tensorflow.keras.models import load_model\n",
    "from tensorflow.keras.models import load_model\n",
    "\n",
    "# Load your trained model\n",
    "model = load_model(\"D:/final_saved_models/chest_xray_model_small.h5\")\n",
    "\n",
    "# List of diseases for binary classification\n",
    "diseases = ['Cardiomegaly', 'Emphysema', 'Effusion', 'Hernia', 'Infiltration', 'Mass', 'Nodule', 'Atelectasis',\n",
    "           'Pneumothorax', 'Pleural_Thickening', 'Pneumonia', 'Fibrosis', 'Edema', 'Consolidation']\n",
    "\n",
    "def preprocess_image(image_path):\n",
    "    # Load and preprocess the image\n",
    "    img = Image.open(image_path)\n",
    "    img = img.resize((320, 320))  # Resize to match input size used during training\n",
    "    img_array = np.array(img)\n",
    "    img_array = img_array / 255.0  # Normalize pixel values (if necessary)\n",
    "    return img_array\n",
    "\n",
    "def predict_image(image_path):\n",
    "    # Preprocess the image\n",
    "    img_array = preprocess_image(image_path)\n",
    "    # Make prediction\n",
    "    predictions = model.predict(np.expand_dims(img_array, axis=0))[0]  # Extract predictions for the first (and only) image\n",
    "    # Threshold predictions (e.g., using 0.5 as threshold)\n",
    "    binary_predictions = [1 if pred >= 0.5 else 0 for pred in predictions]\n",
    "    return binary_predictions, img_array\n",
    "\n",
    "# Example usage\n",
    "image_path = \"G:/colab_models/WhatsApp Image 2024-03-11 at 12.59.12 PM.jpeg\"\n",
    "predictions, processed_image = predict_image(image_path)\n",
    "\n",
    "# Plot the processed image\n",
    "plt.imshow(processed_image)\n",
    "plt.axis('off')\n",
    "plt.title('Processed Image')\n",
    "plt.show()\n",
    "\n",
    "print(\"Predictions:\")\n",
    "for i, disease in enumerate(diseases):\n",
    "    if predictions[i] == 1:\n",
    "        print(f\"{disease}: Disease present\")\n",
    "    else:\n",
    "        print(f\"{disease}: Disease absent\")\n"
   ]
  },
  {
   "cell_type": "code",
   "execution_count": null,
   "metadata": {},
   "outputs": [],
   "source": [
    "import tensorflow as tf\n",
    "\n",
    "print(\"TensorFlow Version:\", tf.__version__)\n",
    "try:\n",
    "  print(\"Keras Version:\", tf.keras.__version__)\n",
    "except AttributeError:\n",
    "  print(\"Keras might be a separate installation. You can check its version using:\")\n",
    "  print(\"```python\")\n",
    "  print(\"from keras import __version__\")\n",
    "  print(\"print(__version__)\")\n",
    "  print(\"```\")\n"
   ]
  },
  {
   "cell_type": "code",
   "execution_count": null,
   "metadata": {},
   "outputs": [],
   "source": [
    "from keras import __version__  "
   ]
  },
  {
   "cell_type": "code",
   "execution_count": null,
   "metadata": {},
   "outputs": [],
   "source": [
    "print(__version__)"
   ]
  },
  {
   "cell_type": "code",
   "execution_count": 6,
   "metadata": {},
   "outputs": [
    {
     "name": "stdout",
     "output_type": "stream",
     "text": [
      "TensorFlow Version: 3.5.1\n"
     ]
    }
   ],
   "source": [
    "import matplotlib as plt\n",
    "print(\"TensorFlow Version:\", plt.__version__)"
   ]
  },
  {
   "cell_type": "code",
   "execution_count": null,
   "metadata": {},
   "outputs": [],
   "source": []
  }
 ],
 "metadata": {
  "colab": {
   "provenance": []
  },
  "kernelspec": {
   "display_name": "Python 3 (ipykernel)",
   "language": "python",
   "name": "python3"
  },
  "language_info": {
   "codemirror_mode": {
    "name": "ipython",
    "version": 3
   },
   "file_extension": ".py",
   "mimetype": "text/x-python",
   "name": "python",
   "nbconvert_exporter": "python",
   "pygments_lexer": "ipython3",
   "version": "3.9.12"
  }
 },
 "nbformat": 4,
 "nbformat_minor": 1
}
