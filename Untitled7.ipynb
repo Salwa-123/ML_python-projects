{
 "cells": [
  {
   "cell_type": "code",
   "execution_count": 1,
   "id": "4aea59b4",
   "metadata": {},
   "outputs": [],
   "source": [
    "import os\n",
    "import shutil\n",
    "import random\n",
    "\n",
    "# Function to split data into train and test directories\n",
    "def split_data(source, train, test, split_size):\n",
    "    for class_name in os.listdir(source):\n",
    "        class_dir = os.path.join(source, class_name)\n",
    "        train_class_dir = os.path.join(train, class_name)\n",
    "        test_class_dir = os.path.join(test, class_name)\n",
    "\n",
    "        if not os.path.exists(train_class_dir):\n",
    "            os.makedirs(train_class_dir)\n",
    "        if not os.path.exists(test_class_dir):\n",
    "            os.makedirs(test_class_dir)\n",
    "\n",
    "        files = os.listdir(class_dir)\n",
    "        train_length = int(len(files) * split_size)\n",
    "        shuffled_set = random.sample(files, len(files))\n",
    "        train_set = shuffled_set[:train_length]\n",
    "        test_set = shuffled_set[train_length:]\n",
    "\n",
    "        for filename in train_set:\n",
    "            this_file = os.path.join(class_dir, filename)\n",
    "            destination = os.path.join(train_class_dir, filename)\n",
    "            shutil.copyfile(this_file, destination)\n",
    "\n",
    "        for filename in test_set:\n",
    "            this_file = os.path.join(class_dir, filename)\n",
    "            destination = os.path.join(test_class_dir, filename)\n",
    "            shutil.copyfile(this_file, destination)\n",
    "\n",
    "\n",
    "source_dir = \"D:/a_m_data/images/\"  # Replace \"YourUsername\" with your actual username\n",
    "train_dir = os.path.join(source_dir, \"train/\")\n",
    "test_dir = os.path.join(source_dir, \"test/\")\n",
    "\n",
    "# Splitting data\n",
    "split_data(source_dir, train_dir, test_dir, split_size=0.8)"
   ]
  },
  {
   "cell_type": "code",
   "execution_count": 3,
   "id": "6c5e53d9",
   "metadata": {},
   "outputs": [
    {
     "name": "stderr",
     "output_type": "stream",
     "text": [
      "C:\\Users\\GHOST\\anaconda3\\lib\\site-packages\\numpy\\_distributor_init.py:30: UserWarning: loaded more than 1 DLL from .libs:\n",
      "C:\\Users\\GHOST\\anaconda3\\lib\\site-packages\\numpy\\.libs\\libopenblas.EL2C6PLE4ZYW3ECEVIV3OXXGRN2NRFM2.gfortran-win_amd64.dll\n",
      "C:\\Users\\GHOST\\anaconda3\\lib\\site-packages\\numpy\\.libs\\libopenblas.XWYDX2IKJW2NMTWSFYNGFUWKQU3LYTCZ.gfortran-win_amd64.dll\n",
      "  warnings.warn(\"loaded more than 1 DLL from .libs:\"\n"
     ]
    },
    {
     "name": "stdout",
     "output_type": "stream",
     "text": [
      "Found 89695 images belonging to 2 classes.\n",
      "Found 22425 images belonging to 2 classes.\n"
     ]
    }
   ],
   "source": [
    "import os\n",
    "import random\n",
    "import numpy as np\n",
    "import matplotlib.pyplot as plt\n",
    "from sklearn.metrics import confusion_matrix, roc_curve, roc_auc_score, ConfusionMatrixDisplay\n",
    "from tensorflow.keras.preprocessing.image import ImageDataGenerator\n",
    "from tensorflow.keras.optimizers import SGD\n",
    "from tensorflow.keras import layers\n",
    "from tensorflow.keras import models\n",
    "\n",
    "\n",
    "\n",
    "train_datagen = ImageDataGenerator(\n",
    "    rescale=1./255,\n",
    "    rotation_range=40,\n",
    "    width_shift_range=0.2,\n",
    "    height_shift_range=0.2,\n",
    "    shear_range=0.2,\n",
    "    zoom_range=0.2,\n",
    "    horizontal_flip=True)\n",
    "\n",
    "test_datagen = ImageDataGenerator(rescale=1./255)\n",
    "\n",
    "train_generator = train_datagen.flow_from_directory(\n",
    "    train_dir,\n",
    "    target_size=(150, 150),\n",
    "    batch_size=32,\n",
    "    class_mode='binary')  # Adjust class_mode as needed\n",
    "\n",
    "test_generator = test_datagen.flow_from_directory(\n",
    "    test_dir,\n",
    "    target_size=(150, 150),\n",
    "    batch_size=32,\n",
    "    class_mode='binary')  # Adjust class_mode as needed\n"
   ]
  },
  {
   "cell_type": "code",
   "execution_count": 5,
   "id": "47b61da8",
   "metadata": {},
   "outputs": [],
   "source": [
    "from tensorflow.keras.applications import DenseNet121\n",
    "from tensorflow.keras.layers import GlobalAveragePooling2D, Dense\n",
    "from tensorflow.keras.models import Model\n",
    "\n",
    "# Load the pretrained DenseNet model\n",
    "base_densenet_model = DenseNet121(include_top=False, weights='imagenet', input_shape=(150, 150, 3))\n",
    "x = base_densenet_model.output\n",
    "x = GlobalAveragePooling2D()(x)\n",
    "x = Dense(256, activation='relu')(x)\n",
    "predictions = Dense(1, activation='sigmoid')(x)\n",
    "\n",
    "model = Model(inputs=base_densenet_model.input, outputs=predictions)\n"
   ]
  },
  {
   "cell_type": "code",
   "execution_count": 7,
   "id": "7200240b",
   "metadata": {},
   "outputs": [
    {
     "name": "stderr",
     "output_type": "stream",
     "text": [
      "WARNING:absl:`lr` is deprecated in Keras optimizer, please use `learning_rate` or use the legacy optimizer, e.g.,tf.keras.optimizers.legacy.SGD.\n"
     ]
    }
   ],
   "source": [
    "model.compile(loss='binary_crossentropy',\n",
    "              optimizer=SGD(lr=1e-3),\n",
    "              metrics=['accuracy'])"
   ]
  },
  {
   "cell_type": "code",
   "execution_count": 8,
   "id": "2489170c",
   "metadata": {},
   "outputs": [
    {
     "name": "stdout",
     "output_type": "stream",
     "text": [
      "Epoch 1/5\n",
      "100/100 [==============================] - 788s 8s/step - loss: 0.3691 - accuracy: 0.8672 - val_loss: 0.3732 - val_accuracy: 0.8700\n",
      "Epoch 2/5\n",
      "100/100 [==============================] - 763s 8s/step - loss: 0.3464 - accuracy: 0.8684 - val_loss: 0.3756 - val_accuracy: 0.8719\n",
      "Epoch 3/5\n",
      "100/100 [==============================] - 764s 8s/step - loss: 0.3336 - accuracy: 0.8744 - val_loss: 0.3272 - val_accuracy: 0.8712\n",
      "Epoch 4/5\n",
      "100/100 [==============================] - 766s 8s/step - loss: 0.3087 - accuracy: 0.8822 - val_loss: 0.3140 - val_accuracy: 0.8794\n",
      "Epoch 5/5\n",
      "100/100 [==============================] - 771s 8s/step - loss: 0.3167 - accuracy: 0.8781 - val_loss: 0.3059 - val_accuracy: 0.8850\n"
     ]
    }
   ],
   "source": [
    "# Training\n",
    "history = model.fit(\n",
    "    train_generator,\n",
    "    steps_per_epoch=100,\n",
    "    epochs=5,\n",
    "    validation_data=test_generator,\n",
    "    validation_steps=50)"
   ]
  },
  {
   "cell_type": "code",
   "execution_count": 10,
   "id": "b6b1fb0a",
   "metadata": {},
   "outputs": [
    {
     "name": "stdout",
     "output_type": "stream",
     "text": [
      "701/701 - 632s - loss: 0.3160 - accuracy: 0.8744 - 632s/epoch - 902ms/step\n"
     ]
    }
   ],
   "source": [
    "# Evaluating the model\n",
    "test_loss, test_acc = model.evaluate(test_generator, verbose=2)"
   ]
  },
  {
   "cell_type": "code",
   "execution_count": 12,
   "id": "0fa4b68b",
   "metadata": {},
   "outputs": [
    {
     "name": "stdout",
     "output_type": "stream",
     "text": [
      "701/701 [==============================] - 602s 856ms/step\n"
     ]
    }
   ],
   "source": [
    "# Prediction\n",
    "predictions = model.predict(test_generator)\n",
    "predictions = np.where(predictions > 0.5, 1, 0)\n"
   ]
  },
  {
   "cell_type": "code",
   "execution_count": 13,
   "id": "c6342104",
   "metadata": {},
   "outputs": [],
   "source": [
    "# Confusion Matrix\n",
    "cm = confusion_matrix(test_generator.labels, predictions)"
   ]
  },
  {
   "cell_type": "code",
   "execution_count": 14,
   "id": "cfd77dbe",
   "metadata": {},
   "outputs": [
    {
     "data": {
      "text/plain": [
       "<sklearn.metrics._plot.confusion_matrix.ConfusionMatrixDisplay at 0x21c3d7b38b0>"
      ]
     },
     "execution_count": 14,
     "metadata": {},
     "output_type": "execute_result"
    },
    {
     "data": {
      "image/png": "[encoded data removed]",
      "text/plain": [
       "<Figure size 432x288 with 2 Axes>"
      ]
     },
     "metadata": {
      "needs_background": "light"
     },
     "output_type": "display_data"
    }
   ],
   "source": [
    "# Plot Confusion Matrix\n",
    "disp = ConfusionMatrixDisplay(confusion_matrix=cm, display_labels=test_generator.class_indices)\n",
    "disp.plot()"
   ]
  },
  {
   "cell_type": "code",
   "execution_count": 15,
   "id": "90204098",
   "metadata": {},
   "outputs": [
    {
     "data": {
      "image/png": "[encoded data removed]",
      "text/plain": [
       "<Figure size 432x288 with 1 Axes>"
      ]
     },
     "metadata": {
      "needs_background": "light"
     },
     "output_type": "display_data"
    }
   ],
   "source": [
    "# ROC Curve\n",
    "fpr, tpr, _ = roc_curve(test_generator.labels, predictions)\n",
    "auc = roc_auc_score(test_generator.labels, predictions)\n",
    "plt.figure()\n",
    "plt.plot(fpr, tpr, color='darkorange', lw=2, label='ROC curve (area = %0.2f)' % auc)\n",
    "plt.plot([0, 1], [0, 1], color='navy', lw=2, linestyle='--')\n",
    "plt.xlim([0.0, 1.0])\n",
    "plt.ylim([0.0, 1.05])\n",
    "plt.xlabel('False Positive Rate')\n",
    "plt.ylabel('True Positive Rate')\n",
    "plt.title('Receiver Operating Characteristic (ROC)')\n",
    "plt.legend(loc=\"lower right\")\n",
    "plt.show()"
   ]
  },
  {
   "cell_type": "code",
   "execution_count": 16,
   "id": "64b6d7dd",
   "metadata": {},
   "outputs": [
    {
     "name": "stdout",
     "output_type": "stream",
     "text": [
      "AUC = 0.49916653217662776\n",
      "Accuracy = 0.8433890746934225\n",
      "Precision = 0.11524500907441017\n",
      "Sensitivity = 0.047672672672672674\n",
      "Specificity = 0.9506603916805829\n"
     ]
    }
   ],
   "source": [
    "# Metrics\n",
    "TN, FP, FN, TP = cm.ravel()\n",
    "accuracy = (TP + TN) / (TP + TN + FP + FN)\n",
    "precision = TP / (TP + FP)\n",
    "sensitivity = TP / (TP + FN)\n",
    "specificity = TN / (TN + FP)\n",
    "f1_score = 2 * (precision * sensitivity) / (precision + sensitivity)\n",
    "\n",
    "print(\"AUC =\", auc)\n",
    "print(\"Accuracy =\", accuracy)\n",
    "print(\"Precision =\", precision)\n",
    "print(\"Sensitivity =\", sensitivity)\n",
    "print(\"Specificity =\", specificity)"
   ]
  },
  {
   "cell_type": "code",
   "execution_count": null,
   "id": "0303e0dc",
   "metadata": {},
   "outputs": [],
   "source": []
  }
 ],
 "metadata": {
  "kernelspec": {
   "display_name": "Python 3 (ipykernel)",
   "language": "python",
   "name": "python3"
  },
  "language_info": {
   "codemirror_mode": {
    "name": "ipython",
    "version": 3
   },
   "file_extension": ".py",
   "mimetype": "text/x-python",
   "name": "python",
   "nbconvert_exporter": "python",
   "pygments_lexer": "ipython3",
   "version": "3.9.12"
  }
 },
 "nbformat": 4,
 "nbformat_minor": 5
}
