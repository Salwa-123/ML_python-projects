{
 "cells": [
  {
   "cell_type": "code",
   "execution_count": null,
   "id": "ba664e16",
   "metadata": {},
   "outputs": [],
   "source": [
    "import pandas as pd\n",
    "import os\n",
    "from matplotlib import rcParams\n",
    "import seaborn as sns\n",
    "from sklearn.preprocessing import OneHotEncoder\n",
    "import matplotlib.pyplot as plt\n",
    "import numpy as np\n",
    "import tensorflow as tf\n",
    "\n",
    "import tensorflow.keras.backend as K\n",
    "from keras.applications.densenet import DenseNet121\n",
    "from tensorflow.keras.layers import Input, Conv2D, BatchNormalization, Dense\n",
    "from tensorflow.keras.layers import AvgPool2D, GlobalAveragePooling2D, MaxPool2D\n",
    "from tensorflow.keras.models import Model\n",
    "from tensorflow.keras.layers import ReLU, concatenate\n",
    "from tensorflow.python.framework.ops import disable_eager_execution\n",
    "import random\n",
    "import cv2\n",
    "import matplotlib.pyplot as plt\n",
    "import numpy as np\n",
    "from keras import backend as K\n",
    "from keras.preprocessing import image\n",
    "from sklearn.metrics import roc_auc_score, roc_curve\n",
    "from tensorflow.compat.v1.logging import INFO, set_verbosity\n",
    "disable_eager_execution()"
   ]
  },
  {
   "cell_type": "code",
   "execution_count": null,
   "id": "03d07805",
   "metadata": {},
   "outputs": [],
   "source": [
    "dataframe = pd.read_csv(\"D:/Xray_Data/data/Data_Entry_2017.csv\")"
   ]
  },
  {
   "cell_type": "code",
   "execution_count": null,
   "id": "48cd943e",
   "metadata": {},
   "outputs": [],
   "source": [
    "dataframe.head()"
   ]
  },
  {
   "cell_type": "code",
   "execution_count": null,
   "id": "1d537b02",
   "metadata": {},
   "outputs": [],
   "source": [
    "#Enumerating all column names\n",
    "columns = [\"Image\"]\n",
    "for i in dataframe[\"Finding Labels\"].values:\n",
    "    for j in i.split(\"|\"):\n",
    "        if j not in columns:\n",
    "            columns.append(j)\n",
    "labels = columns.copy()\n",
    "labels.remove(\"Image\")\n",
    "labels.remove(\"No Finding\")\n",
    "columns.remove(\"No Finding\")"
   ]
  },
  {
   "cell_type": "code",
   "execution_count": null,
   "id": "ffcc5388",
   "metadata": {},
   "outputs": [],
   "source": [
    "#Taking the first 90000 images from the master table as the train dataset\n",
    "trainset = pd.DataFrame(columns = columns)\n",
    "for i in range(90000):\n",
    "    col = [0]*len(columns)\n",
    "    col[0] = dataframe[\"Image Index\"][i]\n",
    "    count = 1\n",
    "    for j in columns[1:]:\n",
    "        if(j in dataframe[\"Finding Labels\"][i]):\n",
    "            col[count] = 1\n",
    "        count+=1\n",
    "    trainset.loc[len(trainset)] = col"
   ]
  },
  {
   "cell_type": "code",
   "execution_count": null,
   "id": "6160e9a3",
   "metadata": {},
   "outputs": [],
   "source": [
    "#Taking the next 10000 images from the master table as the validation dataset\n",
    "valset = pd.DataFrame(columns = columns)\n",
    "for i in range(90000, 100000):\n",
    "    col = [0]*len(columns)\n",
    "    col[0] = dataframe[\"Image Index\"][i]\n",
    "    count = 1\n",
    "    for j in columns[1:]:\n",
    "        if(j in dataframe[\"Finding Labels\"][i]):\n",
    "            col[count] = 1\n",
    "        count+=1\n",
    "    valset.loc[len(valset)] = col"
   ]
  },
  {
   "cell_type": "code",
   "execution_count": null,
   "id": "3d5eab25",
   "metadata": {},
   "outputs": [],
   "source": [
    "#Taking the next 12000 images from the master table as the test dataset\n",
    "testset = pd.DataFrame(columns = columns)\n",
    "for i in range(100000, 112000):\n",
    "    col = [0]*len(columns)\n",
    "    col[0] = dataframe[\"Image Index\"][i]\n",
    "    count = 1\n",
    "    for j in columns[1:]:\n",
    "        if(j in dataframe[\"Finding Labels\"][i]):\n",
    "            col[count] = 1\n",
    "        count+=1\n",
    "    testset.loc[len(testset)] = col"
   ]
  },
  {
   "cell_type": "code",
   "execution_count": null,
   "id": "86ed6c15",
   "metadata": {},
   "outputs": [],
   "source": [
    "testset1 = pd.DataFrame(columns = columns)\n",
    "for i in range(50000, 50500):\n",
    "    col = [0]*len(columns)\n",
    "    col[0] = dataframe[\"Image Index\"][i]\n",
    "    count = 1\n",
    "    for j in columns[1:]:\n",
    "        if(j in dataframe[\"Finding Labels\"][i]):\n",
    "            col[count] = 1\n",
    "        count+=1\n",
    "    testset1.loc[len(testset1)] = col"
   ]
  },
  {
   "cell_type": "code",
   "execution_count": null,
   "id": "e7c9b401",
   "metadata": {},
   "outputs": [],
   "source": [
    "img_dir = \"D:/Xray_Data/data/images_2/\"\n",
    "plt.figure(figsize = (15,15))\n",
    "for i in range(16):\n",
    "    plt.subplot(4, 4, i+1)\n",
    "    plt.imshow(plt.imread(os.path.join(img_dir, trainset[\"Image\"][i])), cmap = \"gray\")\n",
    "    plt.title(dataframe[dataframe[\"Image Index\"] == trainset[\"Image\"][i]].values[0][1])\n",
    "plt.tight_layout()"
   ]
  },
  {
   "cell_type": "code",
   "execution_count": null,
   "id": "427eabfd",
   "metadata": {},
   "outputs": [],
   "source": [
    "trainset"
   ]
  },
  {
   "cell_type": "code",
   "execution_count": null,
   "id": "cb834781",
   "metadata": {},
   "outputs": [],
   "source": [
    "def isOverlap(s1, s2):\n",
    "    total = set(s1).intersection(set(s2))\n",
    "    return [len(total), total]"
   ]
  },
  {
   "cell_type": "code",
   "execution_count": null,
   "id": "e4ae8072",
   "metadata": {},
   "outputs": [],
   "source": [
    "def overlapcheck(trainset, valset, testset):\n",
    "    patid_train = []\n",
    "    patid_val = []\n",
    "    patid_test = []\n",
    "    for name in trainset['Image'].values:\n",
    "        patid_train.append(int(name.split(\"_\")[0]))\n",
    "\n",
    "    for name in valset['Image'].values:\n",
    "        patid_val.append(int(name.split(\"_\")[0]))\n",
    "\n",
    "    for name in testset['Image'].values:\n",
    "        patid_test.append(int(name.split(\"_\")[0]))\n",
    "    trte = isOverlap(patid_train, patid_test)\n",
    "    teva = isOverlap(patid_test, patid_val)\n",
    "    trva = isOverlap(patid_train, patid_val)\n",
    "    print(\"Patient Overlap - Train and Test: \", trte[0])\n",
    "    print(\"Patient Overlap - Test and Validation: \", teva[0])\n",
    "    print(\"Patient Overlap - Train and Validation: \", trva[0])\n",
    "    return trte, teva, trva"
   ]
  },
  {
   "cell_type": "code",
   "execution_count": null,
   "id": "49410476",
   "metadata": {},
   "outputs": [],
   "source": [
    "trte, teva, trva = overlapcheck(trainset, valset, testset)"
   ]
  },
  {
   "cell_type": "code",
   "execution_count": null,
   "id": "2a160fb2",
   "metadata": {},
   "outputs": [],
   "source": [
    "num = np.random.randint(trainset.shape[0])\n",
    "sample = plt.imread(os.path.join(img_dir,trainset.iloc[[num]][\"Image\"].values[0]))\n",
    "plt.figure(figsize=(15, 15))\n",
    "plt.title(dataframe[dataframe[\"Image Index\"] == trainset.iloc[[num]][\"Image\"].values[0]].values[0][1])\n",
    "plt.imshow(sample, cmap = 'gray')\n",
    "plt.colorbar()\n",
    "trainset.iloc[[num]]"
   ]
  },
  {
   "cell_type": "code",
   "execution_count": null,
   "id": "9ba2545e",
   "metadata": {},
   "outputs": [],
   "source": [
    "num"
   ]
  },
  {
   "cell_type": "code",
   "execution_count": null,
   "id": "9776f039",
   "metadata": {},
   "outputs": [],
   "source": [
    "print(\"Maximum Pixel Value: \", sample.max())\n",
    "print(\"Minimum Pixel Value: \", sample.min())\n",
    "print(f\"Image dimension: {sample.shape[0]} x {sample.shape[1]} \")"
   ]
  },
  {
   "cell_type": "code",
   "execution_count": null,
   "id": "7507df89",
   "metadata": {},
   "outputs": [],
   "source": [
    "plt.rcParams.update({'font.size': 20})\n",
    "fig, ax = plt.subplots(figsize=(25, 10))\n",
    "plt.xlabel(\"Pixel Values\")\n",
    "print(\"Mean - Pixel Value: \", sample.mean())\n",
    "print(\"Std Deviation Pixel Value: \", sample.std())\n",
    "sns.histplot(sample.ravel(), ax = ax, kde = True)"
   ]
  },
  {
   "cell_type": "code",
   "execution_count": null,
   "id": "d1f956a9",
   "metadata": {},
   "outputs": [],
   "source": [
    "from keras.preprocessing.image import ImageDataGenerator\n",
    "traingen = ImageDataGenerator(samplewise_center=True, samplewise_std_normalization= True)\n",
    "traingenerator = traingen.flow_from_dataframe(\n",
    "        dataframe=trainset,\n",
    "        directory=\"D:/Xray_Data/data/images_2\",\n",
    "        x_col=\"Image\",\n",
    "        y_col= labels,\n",
    "        class_mode=\"raw\",\n",
    "        batch_size= 1,\n",
    "        shuffle=True,\n",
    "        target_size=(512,512)\n",
    ")"
   ]
  },
  {
   "cell_type": "code",
   "execution_count": null,
   "id": "7f1c8a39",
   "metadata": {},
   "outputs": [],
   "source": [
    "imagegen = ImageDataGenerator().flow_from_dataframe(dataframe = trainset, directory = \"D:/Xray_Data/data/images_2\", x_col = \"Image\", y_col = labels, class_mode = \"raw\", batch_size= 1, shuffle=True, target_size=(512,512))\n",
    "train_sample = imagegen.next()[0]\n",
    "imagegen1 = ImageDataGenerator(featurewise_center=True, featurewise_std_normalization= True)\n",
    "imagegen1.fit(train_sample)\n",
    "\n",
    "valgenerator = imagegen1.flow_from_dataframe(dataframe = valset, directory = \"D:/Xray_Data/data/images_2\", x_col = \"Image\", y_col = labels, class_mode = \"raw\", batch_size= 1, shuffle=True, target_size=(512,512))\n",
    "testgenerator = imagegen1.flow_from_dataframe(dataframe = testset, directory = \"D:/Xray_Data/data/images_2\", x_col = \"Image\", y_col = labels, class_mode = \"raw\", batch_size= 1, shuffle=True, target_size=(512,512))"
   ]
  },
  {
   "cell_type": "code",
   "execution_count": null,
   "id": "9f73b408",
   "metadata": {},
   "outputs": [],
   "source": [
    "testgenerator1 = imagegen1.flow_from_dataframe(dataframe = testset1, directory = \"D:/Xray_Data/data/images_2\", x_col = \"Image\", y_col = labels, class_mode = \"raw\", batch_size= 10, shuffle=True, target_size=(512,512))"
   ]
  },
  {
   "cell_type": "code",
   "execution_count": null,
   "id": "c2357d08",
   "metadata": {},
   "outputs": [],
   "source": [
    "item, value = traingenerator.__getitem__(num)"
   ]
  },
  {
   "cell_type": "code",
   "execution_count": null,
   "id": "9598488a",
   "metadata": {},
   "outputs": [],
   "source": [
    "plt.figure(figsize=(15, 15))\n",
    "plt.imshow(item[0], cmap = 'gray')\n",
    "plt.colorbar()"
   ]
  },
  {
   "cell_type": "code",
   "execution_count": null,
   "id": "f461b8f6",
   "metadata": {},
   "outputs": [],
   "source": [
    "fig, ax = plt.subplots(figsize=(25, 10))\n",
    "plt.xlabel(\"Pixel Values\")\n",
    "print(\"Mean of Pixel Values - Standardized: \", item[0].mean())\n",
    "print(\"Standard Deviation of Pixel Values - Standardized: \", item[0].std())\n",
    "print(\"Mean of Pixel Values - Sample: \", sample.mean())\n",
    "print(\"Standard Deviation of Pixel Values - Sample: \", sample.std())\n",
    "sns.histplot(item[0].ravel(), ax = ax, kde = False)\n",
    "sns.histplot(sample.ravel(), ax = ax, kde = False, color = \"red\")"
   ]
  },
  {
   "cell_type": "code",
   "execution_count": null,
   "id": "619d05c2",
   "metadata": {},
   "outputs": [],
   "source": [
    "plt.rcParams.update({'font.size': 12})"
   ]
  },
  {
   "cell_type": "code",
   "execution_count": null,
   "id": "a0997908",
   "metadata": {},
   "outputs": [],
   "source": [
    "positive_freqs = np.mean(traingenerator.labels, axis = 0)\n",
    "negative_freqs = 1 - positive_freqs"
   ]
  },
  {
   "cell_type": "code",
   "execution_count": null,
   "id": "35d48470",
   "metadata": {},
   "outputs": [],
   "source": [
    "data = {\n",
    "    'Class': labels,\n",
    "    'Positive': positive_freqs,\n",
    "    'Negative':negative_freqs\n",
    "}"
   ]
  },
  {
   "cell_type": "code",
   "execution_count": null,
   "id": "9d4f9ae0",
   "metadata": {},
   "outputs": [],
   "source": [
    "negative_freqs"
   ]
  },
  {
   "cell_type": "code",
   "execution_count": null,
   "id": "f77d92e3",
   "metadata": {},
   "outputs": [],
   "source": [
    "positive_freqs"
   ]
  },
  {
   "cell_type": "code",
   "execution_count": null,
   "id": "6712a0f3",
   "metadata": {},
   "outputs": [],
   "source": [
    "X_axis = np.arange(len(labels))\n",
    "fig, ax = plt.subplots(figsize=(10, 5))\n",
    "ax.bar(X_axis-0.2, data['Positive'], width=0.4, color='b', label = \"Positive\")\n",
    "ax.bar(X_axis+0.2, data['Negative'], width=0.4, color='r', label = 'Negative')\n",
    "plt.xticks(X_axis, labels, rotation = 90)\n",
    "plt.legend()\n",
    "plt.figure(figsize=(20,15))"
   ]
  },
  {
   "cell_type": "code",
   "execution_count": null,
   "id": "27cb70c0",
   "metadata": {},
   "outputs": [],
   "source": [
    "data = {\n",
    "    'Class': labels,\n",
    "    'Positive': positive_freqs*negative_freqs,\n",
    "    'Negative':negative_freqs*positive_freqs\n",
    "}"
   ]
  },
  {
   "cell_type": "code",
   "execution_count": null,
   "id": "ac35daf6",
   "metadata": {},
   "outputs": [],
   "source": [
    "X_axis = np.arange(len(labels))\n",
    "fig, ax = plt.subplots(figsize=(10, 5))\n",
    "ax.bar(X_axis-0.2, data['Positive'], width=0.4, color='b', label = \"Positive\")\n",
    "ax.bar(X_axis+0.2, data['Negative'], width=0.4, color='r', label = 'Negative')\n",
    "plt.xticks(X_axis, labels, rotation = 90)\n",
    "plt.legend()\n",
    "plt.figure(figsize=(20,15))"
   ]
  },
  {
   "cell_type": "code",
   "execution_count": null,
   "id": "8215ed4b",
   "metadata": {},
   "outputs": [],
   "source": [
    "def calcloss(positivewt, negativewt, al=1e-7):\n",
    "    def weighted_loss(y_true, y_pred):\n",
    "        loss = 0.0\n",
    "        for i in range(len(positivewt)):\n",
    "            loss += -((positivewt[i] * K.transpose(y_true)[i] * K.log(K.transpose(y_pred)[i] + al))+(negativewt[i]*(1 - K.transpose(y_true)[i])*K.log(1 - K.transpose(y_pred)[i] + al)))\n",
    "        return K.mean(loss)\n",
    "    return weighted_loss"
   ]
  },
  {
   "cell_type": "code",
   "execution_count": null,
   "id": "13ed32f4",
   "metadata": {},
   "outputs": [],
   "source": [
    "model = DenseNet121(weights=\"D:/Xray_Data/data/small_data/nih/densenet.hdf5\", include_top=False)\n",
    "model = Model(inputs=model.input, outputs=Dense(len(labels), activation=\"sigmoid\")(GlobalAveragePooling2D()(model.output)))\n",
    "model.summary()"
   ]
  },
  {
   "cell_type": "code",
   "execution_count": null,
   "id": "3902ccf3",
   "metadata": {},
   "outputs": [],
   "source": [
    "model.compile(optimizer='adam', loss=calcloss(negative_freqs, positive_freqs))"
   ]
  },
  {
   "cell_type": "code",
   "execution_count": null,
   "id": "164b3006",
   "metadata": {},
   "outputs": [],
   "source": [
    "fitter = model.fit(traingenerator, validation_data=valgenerator, steps_per_epoch = 1000, epochs = 50)"
   ]
  },
  {
   "cell_type": "code",
   "execution_count": null,
   "id": "8412e0c1",
   "metadata": {},
   "outputs": [],
   "source": [
    "from tensorflow.keras.models import load_model\n"
   ]
  },
  {
   "cell_type": "code",
   "execution_count": null,
   "id": "306c5391",
   "metadata": {},
   "outputs": [],
   "source": []
  }
 ],
 "metadata": {
  "kernelspec": {
   "display_name": "Python 3 (ipykernel)",
   "language": "python",
   "name": "python3"
  },
  "language_info": {
   "codemirror_mode": {
    "name": "ipython",
    "version": 3
   },
   "file_extension": ".py",
   "mimetype": "text/x-python",
   "name": "python",
   "nbconvert_exporter": "python",
   "pygments_lexer": "ipython3",
   "version": "3.9.12"
  }
 },
 "nbformat": 4,
 "nbformat_minor": 5
}
